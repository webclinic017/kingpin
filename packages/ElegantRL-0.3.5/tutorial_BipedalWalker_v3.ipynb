{
    "nbformat": 4,
    "nbformat_minor": 0,
    "metadata": {
        "colab": {
            "name": "tutorial_BipedalWalker-v3.ipynb",
            "provenance": [],
            "collapsed_sections": [],
            "include_colab_link": true
        },
        "kernelspec": {
            "name": "python3",
            "display_name": "Python 3"
        },
        "accelerator": "GPU"
    },
    "cells": [
        {
            "cell_type": "markdown",
            "metadata": {
                "id": "view-in-github",
                "colab_type": "text"
            },
            "source": [
                "<a href=\"https://colab.research.google.com/github/AI4Finance-Foundation/ElegantRL/blob/master/tutorial_BipedalWalker_v3.ipynb\" target=\"_parent\"><img src=\"https://colab.research.google.com/assets/colab-badge.svg\" alt=\"Open In Colab\"/></a>"
            ]
        },
        {
            "cell_type": "markdown",
            "metadata": {
                "id": "c1gUG3OCJ5GS"
            },
            "source": [
                "# **BipedalWalker-v3 Example in ElegantRL**\n",
                "\n",
                "\n",
                "\n",
                "\n"
            ]
        },
        {
            "cell_type": "markdown",
            "metadata": {
                "id": "FGXyBBvL0dR2"
            },
            "source": [
                "# **Task Description**\n",
                "\n",
                "[BipedalWalker-v3](https://gym.openai.com/envs/BipedalWalker-v2/) is a robotic task in OpenAI Gym since it performs one of the most fundamental skills: moving. In this task, our goal is to get a 2D bipedal walker to walk through rough terrain. BipedalWalker is a difficult task in continuous action space, and there are only a few RL implementations can reach the target reward."
            ]
        },
        {
            "cell_type": "markdown",
            "metadata": {
                "id": "DbamGVHC3AeW"
            },
            "source": [
                "# **Part 1: Install ElegantRL**"
            ]
        },
        {
            "cell_type": "code",
            "metadata": {
                "id": "U35bhkUqOqbS",
                "colab": {
                    "base_uri": "https://localhost:8080/"
                },
                "outputId": "79ace170-9a20-46cd-db96-957fd42a472f"
            },
            "source": [
                "# install elegantrl library\n",
                "!pip install git+https://github.com/AI4Finance-LLC/ElegantRL.git"
            ],
            "execution_count": null,
            "outputs": [
                {
                    "output_type": "stream",
                    "name": "stdout",
                    "text": [
                        "Collecting git+https://github.com/AI4Finance-LLC/ElegantRL.git\n",
                        "  Cloning https://github.com/AI4Finance-LLC/ElegantRL.git to /tmp/pip-req-build-0qrcm_61\n",
                        "  Running command git clone -q https://github.com/AI4Finance-LLC/ElegantRL.git /tmp/pip-req-build-0qrcm_61\n",
                        "Requirement already satisfied: gym in /usr/local/lib/python3.7/dist-packages (from elegantrl==0.3.3) (0.17.3)\n",
                        "Requirement already satisfied: matplotlib in /usr/local/lib/python3.7/dist-packages (from elegantrl==0.3.3) (3.2.2)\n",
                        "Requirement already satisfied: numpy in /usr/local/lib/python3.7/dist-packages (from elegantrl==0.3.3) (1.19.5)\n",
                        "Collecting pybullet\n",
                        "  Downloading pybullet-3.2.1-cp37-cp37m-manylinux_2_5_x86_64.manylinux1_x86_64.whl (90.8 MB)\n",
                        "\u001b[K     |████████████████████████████████| 90.8 MB 254 bytes/s \n",
                        "\u001b[?25hRequirement already satisfied: torch in /usr/local/lib/python3.7/dist-packages (from elegantrl==0.3.3) (1.10.0+cu111)\n",
                        "Requirement already satisfied: opencv-python in /usr/local/lib/python3.7/dist-packages (from elegantrl==0.3.3) (4.1.2.30)\n",
                        "Collecting box2d-py\n",
                        "  Downloading box2d_py-2.3.8-cp37-cp37m-manylinux1_x86_64.whl (448 kB)\n",
                        "\u001b[K     |████████████████████████████████| 448 kB 47.2 MB/s \n",
                        "\u001b[?25hRequirement already satisfied: scipy in /usr/local/lib/python3.7/dist-packages (from gym->elegantrl==0.3.3) (1.4.1)\n",
                        "Requirement already satisfied: cloudpickle<1.7.0,>=1.2.0 in /usr/local/lib/python3.7/dist-packages (from gym->elegantrl==0.3.3) (1.3.0)\n",
                        "Requirement already satisfied: pyglet<=1.5.0,>=1.4.0 in /usr/local/lib/python3.7/dist-packages (from gym->elegantrl==0.3.3) (1.5.0)\n",
                        "Requirement already satisfied: future in /usr/local/lib/python3.7/dist-packages (from pyglet<=1.5.0,>=1.4.0->gym->elegantrl==0.3.3) (0.16.0)\n",
                        "Requirement already satisfied: pyparsing!=2.0.4,!=2.1.2,!=2.1.6,>=2.0.1 in /usr/local/lib/python3.7/dist-packages (from matplotlib->elegantrl==0.3.3) (3.0.6)\n",
                        "Requirement already satisfied: python-dateutil>=2.1 in /usr/local/lib/python3.7/dist-packages (from matplotlib->elegantrl==0.3.3) (2.8.2)\n",
                        "Requirement already satisfied: kiwisolver>=1.0.1 in /usr/local/lib/python3.7/dist-packages (from matplotlib->elegantrl==0.3.3) (1.3.2)\n",
                        "Requirement already satisfied: cycler>=0.10 in /usr/local/lib/python3.7/dist-packages (from matplotlib->elegantrl==0.3.3) (0.11.0)\n",
                        "Requirement already satisfied: six>=1.5 in /usr/local/lib/python3.7/dist-packages (from python-dateutil>=2.1->matplotlib->elegantrl==0.3.3) (1.15.0)\n",
                        "Requirement already satisfied: typing-extensions in /usr/local/lib/python3.7/dist-packages (from torch->elegantrl==0.3.3) (3.10.0.2)\n",
                        "Building wheels for collected packages: elegantrl\n",
                        "  Building wheel for elegantrl (setup.py) ... \u001b[?25l\u001b[?25hdone\n",
                        "  Created wheel for elegantrl: filename=elegantrl-0.3.3-py3-none-any.whl size=185894 sha256=4be8a158b6dd2d3dff15408ea26953c52a7263bf8d63f9e0b44e1cc582c6cc59\n",
                        "  Stored in directory: /tmp/pip-ephem-wheel-cache-nkyrgypx/wheels/52/9a/b3/08c8a0b5be22a65da0132538c05e7e961b1253c90d6845e0c6\n",
                        "Successfully built elegantrl\n",
                        "Installing collected packages: pybullet, box2d-py, elegantrl\n",
                        "Successfully installed box2d-py-2.3.8 elegantrl-0.3.3 pybullet-3.2.1\n"
                    ]
                }
            ]
        },
        {
            "cell_type": "markdown",
            "metadata": {
                "id": "UVdmpnK_3Zcn"
            },
            "source": [
                "# **Part 2: Import Packages**\n",
                "\n",
                "\n",
                "*   **elegantrl**\n",
                "*   **OpenAI Gym**: a toolkit for developing and comparing reinforcement learning algorithms.\n",
                "\n"
            ]
        },
        {
            "cell_type": "code",
            "source": [
                "import gym",
                "from elegantrl.agents import AgentPPO",
                "from elegantrl.train.config import get_gym_env_args, Arguments",
                "from elegantrl.train.run import *\n",
                "\n",
                "gym.logger.set_level(40) # Block warning"
            ],
            "metadata": {
                "id": "AAPdjovQrTpE"
            },
            "execution_count": null,
            "outputs": []
        },
        {
            "cell_type": "markdown",
            "source": [
                "# **Part 3: Get environment information**"
            ],
            "metadata": {
                "id": "z2Ik5cDoyPGU"
            }
        },
        {
            "cell_type": "code",
            "source": [
                "get_gym_env_args(gym.make(\"BipedalWalker-v3\"), if_print=False)"
            ],
            "metadata": {
                "colab": {
                    "base_uri": "https://localhost:8080/"
                },
                "id": "wwkZXiHtyV6f",
                "outputId": "880d25f5-d1f0-4cd2-8f78-bb5409330101"
            },
            "execution_count": null,
            "outputs": [
                {
                    "output_type": "execute_result",
                    "data": {
                        "text/plain": [
                            "{'action_dim': 4,\n",
                            " 'env_name': 'BipedalWalker-v3',\n",
                            " 'env_num': 1,\n",
                            " 'if_discrete': False,\n",
                            " 'max_step': 1600,\n",
                            " 'state_dim': 24,\n",
                            " 'target_return': 300}"
                        ]
                    },
                    "metadata": {},
                    "execution_count": 8
                }
            ]
        },
        {
            "cell_type": "markdown",
            "metadata": {
                "id": "3n8zcgcn14uq"
            },
            "source": [
                "# **Part 4: Specify Agent and Environment**\n",
                "\n",
                "*   **agent**: chooses a agent (DRL algorithm) from a set of agents in the [directory](https://github.com/AI4Finance-Foundation/ElegantRL/tree/master/elegantrl/agents).\n",
                "*   **env_func**: the function to create an environment, in this case, we use gym.make to create BipedalWalker-v3.\n",
                "*   **env_args**: the environment information.\n"
            ]
        },
        {
            "cell_type": "code",
            "metadata": {
                "id": "E03f6cTeajK4"
            },
            "source": [
                "env_func = gym.make\n",
                "env_args = {\n",
                "    \"env_num\": 1,\n",
                "    \"env_name\": \"BipedalWalker-v3\",\n",
                "    \"max_step\": 1600,\n",
                "    \"state_dim\": 24,\n",
                "    \"action_dim\": 4,\n",
                "    \"if_discrete\": False,\n",
                "    \"target_return\": 300,\n",
                "    \"id\": \"BipedalWalker-v3\",\n",
                "}\n",
                "args = Arguments(AgentPPO, env_func=env_func, env_args=env_args)"
            ],
            "execution_count": null,
            "outputs": []
        },
        {
            "cell_type": "markdown",
            "source": [
                "# **Part 4: Specify hyper-parameters**\n",
                "A list of hyper-parameters is available [here](https://elegantrl.readthedocs.io/en/latest/api/config.html)."
            ],
            "metadata": {
                "id": "rcFcUkwfzHLE"
            }
        },
        {
            "cell_type": "code",
            "source": [
                "args.target_step = args.max_step * 4\n",
                "args.gamma = 0.98\n",
                "args.eval_times = 2**4"
            ],
            "metadata": {
                "id": "9WCAcmIfzGyE"
            },
            "execution_count": null,
            "outputs": []
        },
        {
            "cell_type": "markdown",
            "metadata": {
                "id": "z1j5kLHF2dhJ"
            },
            "source": [
                "# **Part 5: Train and Evaluate the Agent**\n",
                "\n",
                "\n",
                "\n",
                "\n"
            ]
        },
        {
            "cell_type": "code",
            "metadata": {
                "id": "KGOPSD6da23k",
                "colab": {
                    "base_uri": "https://localhost:8080/"
                },
                "outputId": "2a8ed03b-b306-45f8-c530-adf72438c5bd"
            },
            "source": [
                "train_and_evaluate(args)"
            ],
            "execution_count": null,
            "outputs": [
                {
                    "output_type": "stream",
                    "name": "stdout",
                    "text": [
                        "| Arguments Remove cwd: ./BipedalWalker-v3_PPO_0\n",
                        "################################################################################\n",
                        "ID     Step    maxR |    avgR   stdR   avgS  stdS |    expR   objC   etc.\n",
                        "0  6.98e+03  -91.89 |\n",
                        "0  6.98e+03  -91.89 |  -91.89    0.0    109     2 |   -0.39 676.16   0.06  -0.50\n",
                        "0  9.49e+04  -21.05 |\n",
                        "0  9.49e+04  -21.05 |  -21.05    0.4   1600     0 |   -0.05   6.96   0.02  -0.50\n",
                        "0  1.59e+05  -21.05 |  -38.62    1.8   1600     0 |   -0.03   0.34  -0.01  -0.51\n",
                        "0  2.24e+05  -21.05 |  -34.80    3.4   1600     0 |   -0.02   0.31   0.05  -0.52\n",
                        "0  2.94e+05  133.03 |\n",
                        "0  2.94e+05  133.03 |  133.03    4.3   1600     0 |    0.01   0.59  -0.05  -0.53\n",
                        "0  3.65e+05  133.03 |  -95.17    0.2    121     7 |    0.04   0.75   0.05  -0.55\n",
                        "0  4.55e+05  133.03 | -125.18   13.9    268    68 |    0.07   5.88   0.03  -0.56\n",
                        "0  5.37e+05  133.03 |  -63.86   34.8    416   175 |    0.08   7.43  -0.01  -0.57\n",
                        "0  6.20e+05  152.64 |\n",
                        "0  6.20e+05  152.64 |  152.64  137.1   1152   451 |    0.14   1.71  -0.00  -0.58\n",
                        "0  6.94e+05  278.71 |\n",
                        "0  6.94e+05  278.71 |  278.71    7.4   1408    58 |    0.14   4.01   0.01  -0.59\n",
                        "0  7.67e+05  278.71 |  245.39   81.0   1240   183 |    0.15   5.87   0.04  -0.60\n",
                        "0  8.39e+05  278.71 |  162.94  146.0   1047   410 |    0.16   9.38   0.03  -0.60\n",
                        "0  9.17e+05  278.71 |  276.64   29.7   1294    24 |    0.16  11.96   0.01  -0.61\n",
                        "0  9.93e+05  287.92 |\n",
                        "0  9.93e+05  287.92 |  287.92    1.1   1231    23 |    0.12  16.81   0.05  -0.61\n",
                        "0  1.07e+06  287.92 |  279.84   29.0   1228    21 |    0.18   8.00   0.00  -0.61\n",
                        "0  1.14e+06  289.48 |\n",
                        "0  1.14e+06  289.48 |  289.48    1.2   1186    19 |    0.21   2.86   0.05  -0.62\n",
                        "0  1.22e+06  289.48 |  248.17   88.0   1105   190 |    0.21   2.38   0.07  -0.63\n",
                        "0  1.29e+06  293.11 |\n",
                        "0  1.29e+06  293.11 |  293.11    1.4   1118    17 |    0.16  19.98   0.03  -0.63\n",
                        "0  1.37e+06  293.11 |  278.33   58.0   1082   104 |    0.23   2.73   0.05  -0.64\n",
                        "0  1.44e+06  293.11 |  269.85   64.9   1030   105 |    0.24   4.19  -0.03  -0.64\n",
                        "0  1.52e+06  293.11 |  273.76   82.2    988   184 |    0.20   7.97   0.06  -0.64\n",
                        "0  1.60e+06  293.11 |  289.13   43.2    983    53 |    0.21  32.67  -0.03  -0.65\n",
                        "0  1.67e+06  296.86 |\n",
                        "0  1.67e+06  296.86 |  296.86    0.9   1017    12 |    0.25   3.27   0.03  -0.65\n",
                        "0  1.75e+06  296.86 |  232.54  103.0    865   176 |    0.21  16.98   0.05  -0.65\n",
                        "0  1.83e+06  296.86 |  249.79  107.9    887   207 |    0.25  11.60   0.02  -0.66\n",
                        "0  1.91e+06  296.86 |  283.17   51.2    969    76 |    0.23  19.41   0.01  -0.66\n",
                        "0  1.98e+06  296.86 |  284.09   46.3    965    62 |    0.25   6.25  -0.02  -0.67\n",
                        "0  2.06e+06  296.86 |  281.10   63.2    930   103 |    0.27   6.64   0.04  -0.67\n",
                        "0  2.13e+06  296.86 |  244.63  101.8    876   166 |    0.23  22.69   0.07  -0.68\n",
                        "0  2.22e+06  296.86 |  229.58  107.9    840   190 |    0.20  26.26   0.01  -0.68\n",
                        "0  2.30e+06  296.86 |  265.12   85.9    907   153 |    0.26   8.28   0.05  -0.68\n",
                        "0  2.37e+06  300.30 |\n",
                        "0  2.37e+06  300.30 |  300.30    1.3    944    19 |    0.27   9.27   0.07  -0.68\n",
                        "| UsedTime: 4151 | SavedDir: ./BipedalWalker-v3_PPO_0\n"
                    ]
                }
            ]
        },
        {
            "cell_type": "markdown",
            "metadata": {
                "id": "JPXOxLSqh5cP"
            },
            "source": [
                "Understanding the above results::\n",
                "*   **Step**: the total training steps.\n",
                "*  **MaxR**: the maximum reward.\n",
                "*   **avgR**: the average of the rewards.\n",
                "*   **stdR**: the standard deviation of the rewards.\n",
                "*   **objA**: the objective function value of Actor Network (Policy Network).\n",
                "*   **objC**: the objective function value (Q-value)  of Critic Network (Value Network)."
            ]
        }
    ]
}